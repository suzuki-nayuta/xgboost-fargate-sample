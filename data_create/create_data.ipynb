{
 "cells": [
  {
   "cell_type": "code",
   "execution_count": 1,
   "id": "b2bebb8e-cc66-46ec-94d8-11401605a89f",
   "metadata": {},
   "outputs": [],
   "source": [
    "import pandas as pd\n",
    "from sklearn.datasets import load_wine\n",
    "from sklearn.model_selection import train_test_split"
   ]
  },
  {
   "cell_type": "code",
   "execution_count": 2,
   "id": "e70aafda-3aa8-44a7-bc00-2aba0dda409c",
   "metadata": {},
   "outputs": [],
   "source": [
    "data = load_wine()\n",
    "\n",
    "X = pd.DataFrame(data[\"data\"], columns=data[\"feature_names\"])\n",
    "y = pd.DataFrame(data[\"target\"], columns=[\"target\"])"
   ]
  },
  {
   "cell_type": "code",
   "execution_count": 3,
   "id": "f013f1c7-76c2-4a1c-98c5-77788f941c83",
   "metadata": {},
   "outputs": [],
   "source": [
    "X_train, X_test, y_train, y_test = train_test_split(X, y, random_state=42)"
   ]
  },
  {
   "cell_type": "code",
   "execution_count": 4,
   "id": "39070753-abbd-4a14-86d9-942b20d5242a",
   "metadata": {},
   "outputs": [],
   "source": [
    "train = X_train.copy()\n",
    "test = X_test.copy()"
   ]
  },
  {
   "cell_type": "code",
   "execution_count": 5,
   "id": "7c5d3ceb-e5f5-49f8-9f59-32a498cfd446",
   "metadata": {},
   "outputs": [],
   "source": [
    "train[\"target\"] = y_train"
   ]
  },
  {
   "cell_type": "code",
   "execution_count": 6,
   "id": "0d640b26-84e1-4556-b788-06a3ae853872",
   "metadata": {},
   "outputs": [],
   "source": [
    "train.to_csv(\"./input.csv\", index=False)\n",
    "test.to_csv(\"./target.csv\", index=False)"
   ]
  }
 ],
 "metadata": {
  "kernelspec": {
   "display_name": "Python 3.9.13 64-bit",
   "language": "python",
   "name": "python3"
  },
  "language_info": {
   "codemirror_mode": {
    "name": "ipython",
    "version": 3
   },
   "file_extension": ".py",
   "mimetype": "text/x-python",
   "name": "python",
   "nbconvert_exporter": "python",
   "pygments_lexer": "ipython3",
   "version": "3.9.13"
  },
  "vscode": {
   "interpreter": {
    "hash": "aee8b7b246df8f9039afb4144a1f6fd8d2ca17a180786b69acc140d282b71a49"
   }
  }
 },
 "nbformat": 4,
 "nbformat_minor": 5
}
